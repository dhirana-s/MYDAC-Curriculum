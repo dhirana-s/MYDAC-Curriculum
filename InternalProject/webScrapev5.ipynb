{
 "cells": [
  {
   "cell_type": "code",
   "execution_count": null,
   "metadata": {},
   "outputs": [],
   "source": [
    "import datetime\n",
    "import time\n",
    "import requests\n",
    "import json\n",
    "import re\n",
    "import numpy as np\n",
    "import pandas as pd\n",
    "import seaborn as sns\n",
    "\n",
    "# Reddit API\n",
    "import praw\n",
    "\n",
    "# Natural Language Processing (NLP)\n",
    "from nltk.stem import WordNetLemmatizer\n",
    "from nltk.sentiment.vader import SentimentIntensityAnalyzer as SIA\n",
    "from nltk.tokenize import word_tokenize\n",
    "from nltk.corpus import stopwords\n",
    "from vaderSentiment.vaderSentiment import SentimentIntensityAnalyzer\n",
    "\n",
    "# Topic Modeling\n",
    "from gensim import corpora\n",
    "from gensim.models import LdaModel, Phrases\n",
    "from gensim.models.phrases import Phraser\n",
    "\n",
    "# Visualization\n",
    "import pyLDAvis.gensim_models as gensimvis\n",
    "import pyLDAvis\n",
    "\n",
    "# Transformers\n",
    "from transformers import pipeline\n",
    "\n",
    "# Miscellaneous\n",
    "from pprint import pprint\n",
    "from IPython import display\n"
   ]
  },
  {
   "cell_type": "code",
   "execution_count": null,
   "metadata": {},
   "outputs": [],
   "source": []
  },
  {
   "cell_type": "code",
   "execution_count": null,
   "metadata": {},
   "outputs": [],
   "source": [
    "# Initialize Reddit API\n",
    "reddit = praw.Reddit(\n",
    "    client_id=open('cred/client_id.txt').read().strip(),\n",
    "    client_secret=open('cred/client_secret.txt').read().strip(),\n",
    "    user_agent=open('cred/user_agent.txt').read().strip(),\n",
    ")\n",
    "\n",
    "# Hard-coded list of Reddit post URLs to scrape\n",
    "posts_to_scrape = [\n",
    "    \"https://www.reddit.com/r/electriccars/comments/1cr9w0q/32_of_consumers_were_considering_an_ev_but_cited/\",\n",
    "    \"https://www.reddit.com/r/electricvehicles/comments/1e7x13p/it_is_not_the_evs_that_are_lacking_in_the_us_its\",\n",
    "    \"https://www.reddit.com/r/electriccars/comments/1c1gtn9/wait_its_an_ev_details_in_comments/\",\n",
    "    \"https://www.reddit.com/r/science/comments/4xym1e/range_anxiety_is_scaring_people_away_from/\",\n",
    "    \"https://www.reddit.com/r/cars/comments/10wfm08/this_is_ruining_electric_cars_the_charging/\",\n",
    "    \"https://www.reddit.com/r/electricvehicles/comments/11ztuhi/ive_owned_an_electric_car_for_four_months_and_not/\",\n",
    "    \n",
    "]\n",
    "\n",
    "# Print the URLs of posts to scrape, each on a new line\n",
    "print(\"Posts to scrape:\")\n",
    "for post in posts_to_scrape:\n",
    "    print(post)\n",
    "\n",
    "# Fetch comments for each post\n",
    "for post_url in posts_to_scrape:\n",
    "    submission = reddit.submission(url=post_url)\n",
    "    \n",
    "    # Scrape the comments\n",
    "    submission.comments.replace_more(limit=None)\n",
    "    \n",
    "    # Print or process the comments\n",
    "    for comment in submission.comments.list():\n",
    "        print(f\"Comment by {comment.author}: {comment.body}\")"
   ]
  }
 ],
 "metadata": {
  "kernelspec": {
   "display_name": ".venv",
   "language": "python",
   "name": "python3"
  },
  "language_info": {
   "codemirror_mode": {
    "name": "ipython",
    "version": 3
   },
   "file_extension": ".py",
   "mimetype": "text/x-python",
   "name": "python",
   "nbconvert_exporter": "python",
   "pygments_lexer": "ipython3",
   "version": "3.12.5"
  }
 },
 "nbformat": 4,
 "nbformat_minor": 2
}
