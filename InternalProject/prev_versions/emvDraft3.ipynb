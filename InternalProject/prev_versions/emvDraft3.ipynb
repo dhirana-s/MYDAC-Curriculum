{
 "cells": [
  {
   "cell_type": "code",
   "execution_count": 2,
   "metadata": {},
   "outputs": [],
   "source": [
    "import pandas as pd\n",
    "import matplotlib.pyplot as plt\n",
    "import seaborn as sns\n",
    "from math import ceil\n",
    "from scipy.stats import zscore\n",
    "import plotly.express as px\n",
    "\n",
    "from sklearn.feature_selection import RFE\n",
    "from sklearn.ensemble import RandomForestClassifier\n",
    "from sklearn.model_selection import train_test_split\n",
    "from sklearn.metrics import accuracy_score"
   ]
  },
  {
   "cell_type": "code",
   "execution_count": 3,
   "metadata": {},
   "outputs": [],
   "source": [
    "df = pd.read_csv('Electric_Vehicles.csv')"
   ]
  },
  {
   "cell_type": "code",
   "execution_count": null,
   "metadata": {},
   "outputs": [],
   "source": [
    "#Optimising memory by appling correct data types to features\n",
    "df = df.astype({\n",
    "    'User ID': 'str',\n",
    "    'Vehicle Model': 'category',\n",
    "    'Charging Station ID': 'str',\n",
    "    'Charging Station Location': 'category',\n",
    "    'Charging Start Time': 'datetime64[ns]',\n",
    "    'Charging End Time': 'datetime64[ns]',\n",
    "    'Time of Day': 'category',\n",
    "    'Day of Week': 'category',\n",
    "    'Charger Type': 'category',\n",
    "    'User Type': 'category'\n",
    "})\n",
    "\n",
    "print(df.dtypes)\n",
    "\n",
    "\n",
    "#Replace missing values with median\n",
    "df[['Energy Consumed (kWh)', 'Charging Rate (kW)', 'Distance Driven (since last charge) (km)']] = df[['Energy Consumed (kWh)', 'Charging Rate (kW)', 'Distance Driven (since last charge) (km)']].fillna(df[['Energy Consumed (kWh)', 'Charging Rate (kW)', 'Distance Driven (since last charge) (km)']].median())\n",
    "df.isnull().sum()"
   ]
  },
  {
   "cell_type": "markdown",
   "metadata": {},
   "source": [
    "#### Logical inconsistencies check. "
   ]
  },
  {
   "cell_type": "code",
   "execution_count": null,
   "metadata": {},
   "outputs": [],
   "source": [
    "inconsistent_charge = df[df['State of Charge (Start %)'] > df['State of Charge (End %)']]\n",
    "print(\"Inconsistent charges: \", len(inconsistent_charge))\n",
    "\n",
    "\n",
    "print(\"\\nInconsistent stations:\")\n",
    "inconsistent_stations = df.groupby('Charging Station ID')['Charging Station Location'].nunique()\n",
    "inconsistent_stations = inconsistent_stations[inconsistent_stations > 1]\n",
    "print(inconsistent_stations.head(100))  \n",
    "\n",
    "\n",
    "# Check for negative values\n",
    "print(\"\\n\\nRows with Negative Energy Consumed:\")\n",
    "print(df[df['Energy Consumed (kWh)'] < 0])\n",
    "\n",
    "print(\"\\n\\nRows with Negative Distance Driven:\")\n",
    "print(df[df['Distance Driven (since last charge) (km)'] < 0])"
   ]
  },
  {
   "cell_type": "markdown",
   "metadata": {},
   "source": [
    "#### One-hot encoding of categorical data. "
   ]
  },
  {
   "cell_type": "code",
   "execution_count": null,
   "metadata": {},
   "outputs": [],
   "source": [
    "df = pd.get_dummies(df, columns=['Vehicle Model', 'Charging Station Location', 'Time of Day', 'Day of Week', 'Charger Type', 'User Type'])\n",
    "\n",
    "# Convert only one-hot encoded columns to integers\n",
    "df = df.apply(lambda x: x.astype(int) if x.dtype == 'bool' else x)\n",
    "\n",
    "print(df.dtypes)"
   ]
  },
  {
   "cell_type": "code",
   "execution_count": 26,
   "metadata": {},
   "outputs": [
    {
     "data": {
      "text/plain": [
       "Index(['User ID', 'Battery Capacity (kWh)', 'Charging Station ID',\n",
       "       'Charging Start Time', 'Charging End Time', 'Energy Consumed (kWh)',\n",
       "       'Charging Duration (hours)', 'Charging Rate (kW)',\n",
       "       'Charging Cost (USD)', 'State of Charge (Start %)',\n",
       "       'State of Charge (End %)', 'Distance Driven (since last charge) (km)',\n",
       "       'Temperature (°C)', 'Vehicle Age (years)', 'Vehicle Model_BMW i3',\n",
       "       'Vehicle Model_Chevy Bolt', 'Vehicle Model_Hyundai Kona',\n",
       "       'Vehicle Model_Nissan Leaf', 'Vehicle Model_Tesla Model 3',\n",
       "       'Charging Station Location_Chicago',\n",
       "       'Charging Station Location_Houston',\n",
       "       'Charging Station Location_Los Angeles',\n",
       "       'Charging Station Location_New York',\n",
       "       'Charging Station Location_San Francisco', 'Time of Day_Afternoon',\n",
       "       'Time of Day_Evening', 'Time of Day_Morning', 'Time of Day_Night',\n",
       "       'Day of Week_Friday', 'Day of Week_Monday', 'Day of Week_Saturday',\n",
       "       'Day of Week_Sunday', 'Day of Week_Thursday', 'Day of Week_Tuesday',\n",
       "       'Day of Week_Wednesday', 'Charger Type_DC Fast Charger',\n",
       "       'Charger Type_Level 1', 'Charger Type_Level 2',\n",
       "       'User Type_Casual Driver', 'User Type_Commuter',\n",
       "       'User Type_Long-Distance Traveler'],\n",
       "      dtype='object')"
      ]
     },
     "execution_count": 26,
     "metadata": {},
     "output_type": "execute_result"
    }
   ],
   "source": [
    "df.columns"
   ]
  },
  {
   "cell_type": "markdown",
   "metadata": {},
   "source": [
    "#### Feature engineering."
   ]
  },
  {
   "cell_type": "code",
   "execution_count": 27,
   "metadata": {},
   "outputs": [],
   "source": [
    "# Goal 1. Predict Optimal Charging Schedules to Reduce Urban Bottlenecks\n",
    "df['Charging Hour'] = df['Charging Start Time'].dt.hour\n",
    "df['Peak Hour'] = df['Charging Hour'].apply(lambda x: 1 if x in [6, 7, 8, 17, 18, 19] else 0)\n",
    "df['Charging Duration during Peak'] = df['Charging Duration (hours)'] * df['Peak Hour']\n",
    "\n",
    "# later, combine this state of charge difference with 'energy consumed (kWh) to find if ppl are charging to full capacity or not\n",
    "df['Charge Difference'] = df['State of Charge (End %)'] - df['State of Charge (Start %)']\n",
    "\n",
    "df['Energy Consumed per Hour'] = df.groupby('Charging Hour')['Energy Consumed (kWh)'].transform('mean')\n",
    "df['Energy Consumed per Day of Week'] = df.groupby('Day of Week_Monday')['Energy Consumed (kWh)'].transform('mean')\n",
    "df['Energy Consumed per Location'] = df.groupby('Charging Station Location_Chicago')['Energy Consumed (kWh)'].transform('mean')\n",
    "\n",
    "df['Temperature Impact'] = df['Energy Consumed (kWh)'] * df['Temperature (°C)']\n",
    "\n",
    "df['Peak Hour by Day'] = df['Peak Hour'] * (df['Day of Week_Monday'] +\n",
    "                                            df['Day of Week_Tuesday'] +\n",
    "                                            df['Day of Week_Wednesday'] +\n",
    "                                            df['Day of Week_Thursday'] +\n",
    "                                            df['Day of Week_Friday'] +\n",
    "                                            df['Day of Week_Saturday'] +\n",
    "                                            df['Day of Week_Sunday'])\n",
    "\n",
    "df['Distance per Charging Duration'] = df['Distance Driven (since last charge) (km)'] / df['Charging Duration (hours)']"
   ]
  },
  {
   "cell_type": "code",
   "execution_count": 28,
   "metadata": {},
   "outputs": [],
   "source": [
    "# Goal 2. Recommend Charger Type\n",
    "# Energy consumption, duration, and cost by charger type\n",
    "df['Energy Consumed per Charger Type'] = df.groupby('Charger Type_DC Fast Charger')['Energy Consumed (kWh)'].transform('mean')\n",
    "df['Charging Duration per Charger Type'] = df.groupby('Charger Type_Level 1')['Charging Duration (hours)'].transform('mean')\n",
    "df['Charging Cost per Charger Type'] = df.groupby('Charger Type_Level 2')['Charging Cost (USD)'].transform('mean')\n",
    "\n",
    "# Energy consumption, duration, and cost by vehicle model\n",
    "df['Energy Consumed per Vehicle Model'] = df.groupby('Vehicle Model_BMW i3')['Energy Consumed (kWh)'].transform('mean')\n",
    "df['Charging Duration per Vehicle Model'] = df.groupby('Vehicle Model_Tesla Model 3')['Charging Duration (hours)'].transform('mean')\n",
    "df['Charging Cost per Vehicle Model'] = df.groupby('Vehicle Model_Chevy Bolt')['Charging Cost (USD)'].transform('mean')\n",
    "df['Charging Cost per Vehicle Model'] = df.groupby('Vehicle Model_Hyundai Kona')['Charging Cost (USD)'].transform('mean')\n",
    "df['Charging Cost per Vehicle Model'] = df.groupby('Vehicle Model_Nissan Leaf')['Charging Cost (USD)'].transform('mean')\n",
    "\n",
    "# Energy consumed and duration per user type\n",
    "df['Energy Consumed per User Type'] = df.groupby('User Type_Casual Driver')['Energy Consumed (kWh)'].transform('mean')\n",
    "df['Charging Duration per User Type'] = df.groupby('User Type_Commuter')['Charging Duration (hours)'].transform('mean')\n",
    "df['Charging Cost per User Type'] = df.groupby('User Type_Long-Distance Traveler')['Charging Cost (USD)'].transform('mean')\n",
    "\n",
    "# Interaction between charger type, vehicle model, and user type\n",
    "df['Charger-Vehicle Interaction'] = df['Charger Type_DC Fast Charger'] * df['Vehicle Model_BMW i3']\n",
    "df['Charger-User Interaction'] = df['Charger Type_Level 2'] * df['User Type_Commuter']\n",
    "df['Vehicle-User Interaction'] = df['Vehicle Model_Tesla Model 3'] * df['User Type_Long-Distance Traveler']\n",
    "\n",
    "# Additional aggregate features (optional)\n",
    "df['Average Charging Cost per Location'] = df.groupby('Charging Station Location_Chicago')['Charging Cost (USD)'].transform('mean')\n",
    "df['Average Energy Consumed per Location'] = df.groupby('Charging Station Location_New York')['Energy Consumed (kWh)'].transform('mean')"
   ]
  },
  {
   "cell_type": "code",
   "execution_count": null,
   "metadata": {},
   "outputs": [],
   "source": [
    "# Goal 3. Identify Underutilized Stations\n",
    "\n",
    "# Station Utilization: Count of charges per station\n",
    "df['Station Utilization'] = df.groupby('Charging Station ID')['Charging Station ID'].transform('count')\n",
    "# Energy consumed per station location\n",
    "df['Energy Consumed per Station Location'] = df.groupby('Charging Station Location_Chicago')['Energy Consumed (kWh)'].transform('mean')\n",
    "# Energy consumed by user type at location\n",
    "df['Energy Consumed per User Type at Location'] = df.groupby(['Charging Station Location_Houston', 'User Type_Commuter'])['Energy Consumed (kWh)'].transform('mean')\n",
    "# Charging duration per station location\n",
    "df['Charging Duration per Location'] = df.groupby('Charging Station Location_Los Angeles')['Charging Duration (hours)'].transform('mean')\n",
    "# Charging cost per station location\n",
    "df['Charging Cost per Location'] = df.groupby('Charging Station Location_San Francisco')['Charging Cost (USD)'].transform('mean')\n",
    "# Total charges per station\n",
    "df['Total Charges per Station'] = df.groupby('Charging Station ID')['Charging Station ID'].transform('count')\n",
    "# Energy consumed by time of day\n",
    "df['Energy Consumed per Time of Day'] = df.groupby(['Charging Station Location_Chicago', 'Time of Day_Morning'])['Energy Consumed (kWh)'].transform('mean')\n",
    "# Utilization rate (Energy consumed per charge)\n",
    "df['Utilization Rate'] = df['Energy Consumed (kWh)'] / df['Station Utilization']\n",
    "# Energy consumed per user type at station\n",
    "df['Energy Consumed per User Type at Station'] = df.groupby(['Charging Station ID', 'User Type_Casual Driver'])['Energy Consumed (kWh)'].transform('mean')\n",
    "# Total energy consumed per location\n",
    "df['Total Energy Consumed per Location'] = df.groupby('Charging Station Location')['Energy Consumed (kWh)'].transform('sum')\n",
    "# Total duration of charging per station\n",
    "df['Total Duration per Station'] = df.groupby('Charging Station ID')['Charging Duration (hours)'].transform('sum')\n",
    "# A charger with high utilisation can imply underserved area \n",
    "df['charger_availability_rate'] = df['Total Charges per Station'] / df['Total Slots at Station']\n",
    "\n"
   ]
  },
  {
   "cell_type": "code",
   "execution_count": null,
   "metadata": {},
   "outputs": [],
   "source": [
    "# cont. Goal 3: Finding EV desert zones\n",
    "\n",
    "\n",
    "# Geospatial Analysis:\n",
    "#     To truly identify EV desert zones, you need to consider the geographic distribution of charging stations. A simple way to assess this is to analyze the distance between charging stations in different regions. Areas that are too far apart (e.g., >X miles/km) could be considered EV desert zones.\n",
    "#     You could use geospatial clustering (like DBSCAN or KMeans) to identify regions with low station density.\n",
    "\n",
    "\n",
    "# Population Density:\n",
    "#     Cross-reference your data with population density. High-density areas with few charging stations could indicate EV deserts. Consider adding a feature based on the number of residents or cars per square kilometer in each area.\n",
    "\n",
    "\n",
    "# Charging Station Availability:\n",
    "#     Consider adding a feature for charging station availability, i.e., whether stations are consistently in use or whether they have free chargers available. If a station consistently shows high utilization or long waiting times, it may indicate an under-served zone where additional stations are needed.\n",
    "\n",
    "\n",
    "# Traveling Patterns (Distance from Stations):\n",
    "#     You could include the distance users travel to reach the charging station. If a station is located too far from a large number of users, it may point to an EV desert zone in that geographic region.\n",
    "\n",
    "\n",
    "# Network Expansion Opportunity:\n",
    "#     Use historical charging data and trends to predict where future demand is likely to grow. Under-served regions with growing populations or heavy commuter traffic could be potential EV desert zones for future network expansion."
   ]
  },
  {
   "cell_type": "code",
   "execution_count": null,
   "metadata": {},
   "outputs": [],
   "source": [
    "# Check the new features\n",
    "pd.set_option(\"display.max_columns\", None)\n",
    "df.head()\n"
   ]
  },
  {
   "cell_type": "code",
   "execution_count": null,
   "metadata": {},
   "outputs": [],
   "source": [
    "# # Goal 1: Predict Optimal Charging Schedules to Reduce Urban Bottlenecks and Minimize Grid Strain During Peak Hours\n",
    "\n",
    "# df['Charging Start Hour'] = df['Charging Start Time'].dt.hour\n",
    "# df['Charging Duration per Hour'] = df.groupby('Charging Start Hour')['Charging Duration (hours)'].transform('sum')\n",
    "# df['Charging Duration per Hour'] = df.groupby('Charging Start Hour')['Charging Duration (hours)'].transform('sum')\n",
    "# df['Charging Duration by Time of Day'] = df.groupby('Time of Day_Evening')['Charging Duration (hours)'].transform('mean')\n",
    "\n",
    "# peak_hours = [16, 17, 18.5]  # Eg. if 4pm to 7.30pm\n",
    "# df['Peak Hour'] = df['Charging Start Hour'].isin(peak_hours).astype(int)\n",
    "\n",
    "\n",
    "# # Goal 2: Recommend Charger Type Based on Patterns of Energy Consumption, Duration, Cost, User Demographics, and Vehicle Model to Promote a Personalized EV Experience\n",
    "# df['Energy Consumed per User Type'] = df.groupby('User Type_Commuter')['Energy Consumed (kWh)'].transform('mean')\n",
    "# df['Energy Consumed per User Type_Long-Distance Traveler'] = df.groupby('User Type_Long-Distance Traveler')['Energy Consumed (kWh)'].transform('mean')\n",
    "# df['Energy Consumed per User Type_Casual Driver'] = df.groupby('User Type_Casual Driver')['Energy Consumed (kWh)'].transform('mean')\n",
    "\n",
    "# # Charging Cost per User Type\n",
    "# df['Charging Cost per User Type_Commuter'] = df.groupby('User Type_Commuter')['Charging Cost (USD)'].transform('mean')\n",
    "# df['Charging Cost per User Type_Long-Distance Traveler'] = df.groupby('User Type_Long-Distance Traveler')['Charging Cost (USD)'].transform('mean')\n",
    "# df['Charging Cost per User Type_Casual Driver'] = df.groupby('User Type_Casual Driver')['Charging Cost (USD)'].transform('mean')\n",
    "\n",
    "# # Charging Rate per vehicle model\n",
    "# df['Charging Rate per Vehicle Model_BMW i3'] = df.groupby('Vehicle Model_BMW i3')['Charging Rate (kW)'].transform('mean')\n",
    "# df['Charging Rate per Vehicle Model_Chevy Bolt'] = df.groupby('Vehicle Model_Chevy Bolt')['Charging Rate (kW)'].transform('mean')\n",
    "# df['Charging Rate per Vehicle Model_Hyundai Kona'] = df.groupby('Vehicle Model_Hyundai Kona')['Charging Rate (kW)'].transform('mean')\n",
    "# df['Charging Rate per Vehicle Model_Nissan Leaf'] = df.groupby('Vehicle Model_Nissan Leaf')['Charging Rate (kW)'].transform('mean')\n",
    "# df['Charging Rate per Vehicle Model_Tesla Model 3'] = df.groupby('Vehicle Model_Tesla Model 3')['Charging Rate (kW)'].transform('mean')\n",
    "\n",
    "# # Energy consumed per vehicle model\n",
    "# df['Energy Consumed per Vehicle Model_BMW i3'] = df.groupby('Vehicle Model_BMW i3')['Energy Consumed (kWh)'].transform('mean')\n",
    "# df['Energy Consumed per Vehicle Model_Chevy Bolt'] = df.groupby('Vehicle Model_Chevy Bolt')['Energy Consumed (kWh)'].transform('mean')\n",
    "# df['Energy Consumed per Vehicle Model_Hyundai Kona'] = df.groupby('Vehicle Model_Hyundai Kona')['Energy Consumed (kWh)'].transform('mean')\n",
    "# df['Energy Consumed per Vehicle Model_Nissan Leaf'] = df.groupby('Vehicle Model_Nissan Leaf')['Energy Consumed (kWh)'].transform('mean')\n",
    "# df['Energy Consumed per Vehicle Model_Tesla Model 3'] = df.groupby('Vehicle Model_Tesla Model 3')['Energy Consumed (kWh)'].transform('mean')\n",
    "\n",
    "\n",
    "# # Energy Consumed per Charger Type\n",
    "# df['Energy Consumed per Charger Type_DC Fast Charger'] = df.groupby('Charger Type_DC Fast Charger')['Energy Consumed (kWh)'].transform('mean')\n",
    "# df['Energy Consumed per Charger Type_Level 1'] = df.groupby('Charger Type_Level 1')['Energy Consumed (kWh)'].transform('mean')\n",
    "# df['Energy Consumed per Charger Type_Level 2'] = df.groupby('Charger Type_Level 2')['Energy Consumed (kWh)'].transform('mean')\n",
    "\n",
    "# df['Charging Cost per User Type'] = df.groupby('User Type_Commuter')['Charging Cost (USD)'].transform('mean')\n",
    "\n",
    "\n",
    "# # Energy Consumed by Time of Day\n",
    "# df['Energy Consumed per Time of Day_Afternoon'] = df.groupby('Time of Day_Afternoon')['Energy Consumed (kWh)'].transform('mean')\n",
    "# df['Energy Consumed per Time of Day_Evening'] = df.groupby('Time of Day_Evening')['Energy Consumed (kWh)'].transform('mean')\n",
    "# df['Energy Consumed per Time of Day_Morning'] = df.groupby('Time of Day_Morning')['Energy Consumed (kWh)'].transform('mean')\n",
    "# df['Energy Consumed per Time of Day_Night'] = df.groupby('Time of Day_Night')['Energy Consumed (kWh)'].transform('mean')\n",
    "\n",
    "# # Energy Consumed by Day of Week\n",
    "# df['Energy Consumed per Day of Week_Friday'] = df.groupby('Day of Week_Friday')['Energy Consumed (kWh)'].transform('mean')\n",
    "# df['Energy Consumed per Day of Week_Monday'] = df.groupby('Day of Week_Monday')['Energy Consumed (kWh)'].transform('mean')\n",
    "# df['Energy Consumed per Day of Week_Saturday'] = df.groupby('Day of Week_Saturday')['Energy Consumed (kWh)'].transform('mean')\n",
    "# df['Energy Consumed per Day of Week_Sunday'] = df.groupby('Day of Week_Sunday')['Energy Consumed (kWh)'].transform('mean')\n",
    "# df['Energy Consumed per Day of Week_Thursday'] = df.groupby('Day of Week_Thursday')['Energy Consumed (kWh)'].transform('mean')\n",
    "# df['Energy Consumed per Day of Week_Tuesday'] = df.groupby('Day of Week_Tuesday')['Energy Consumed (kWh)'].transform('mean')\n",
    "# df['Energy Consumed per Day of Week_Wednesday'] = df.groupby('Day of Week_Wednesday')['Energy Consumed (kWh)'].transform('mean')\n",
    "\n",
    "\n",
    "\n",
    "\n",
    "\n",
    "# # Goal 3: Identify Underutilized Stations and Recommend Strategies to Boost Usage\n",
    "# df['Station Utilization'] = df.groupby('Charging Station ID')['Charging Station ID'].transform('count')\n",
    "# df['Cost per kWh'] = df['Charging Cost (USD)'] / df['Energy Consumed (kWh)']\n",
    "\n",
    "# df['Location Popularity_Houston'] = df.groupby('Charging Station Location_Houston')['Charging Station Location_Houston'].transform('count')\n",
    "# df['Location Popularity_Los Angeles'] = df.groupby('Charging Station Location_Los Angeles')['Charging Station Location_Los Angeles'].transform('count')\n",
    "# df['Location Popularity_New York'] = df.groupby('Charging Station Location_New York')['Charging Station Location_New York'].transform('count')\n",
    "# df['Location Popularity_San Francisco'] = df.groupby('Charging Station Location_San Francisco')['Charging Station Location_San Francisco'].transform('count')\n",
    "\n",
    "# df['Charging Duration per Location_Houston'] = df.groupby('Charging Station Location_Houston')['Charging Duration (hours)'].transform('sum')\n",
    "# df['Charging Duration per Location_Los Angeles'] = df.groupby('Charging Station Location_Los Angeles')['Charging Duration (hours)'].transform('sum')\n",
    "# df['Charging Duration per Location_New York'] = df.groupby('Charging Station Location_New York')['Charging Duration (hours)'].transform('sum')\n",
    "# df['Charging Duration per Location_San Francisco'] = df.groupby('Charging Station Location_San Francisco')['Charging Duration (hours)'].transform('sum')\n",
    "\n",
    "\n",
    "\n",
    "\n",
    "\n",
    "# # MISC\n",
    "# df['Is Weekend'] = df['Day of Week_Saturday'].astype(int) | df['Day of Week_Sunday'].astype(int)\n",
    "\n",
    "# df['User-Vehicle Interaction'] = df['User Type_Commuter'].astype(str) + '-' + df['Vehicle Model_Chevy Bolt'].astype(str)\n",
    "# df['User-Vehicle Interaction_Hyundai Kona'] = df['User Type_Commuter'].astype(str) + '-' + df['Vehicle Model_Hyundai Kona'].astype(str)\n",
    "# df['User-Vehicle Interaction_Nissan Leaf'] = df['User Type_Commuter'].astype(str) + '-' + df['Vehicle Model_Nissan Leaf'].astype(str)\n",
    "# df['User-Vehicle Interaction_Tesla Model 3'] = df['User Type_Commuter'].astype(str) + '-' + df['Vehicle Model_Tesla Model 3'].astype(str)\n"
   ]
  },
  {
   "cell_type": "code",
   "execution_count": null,
   "metadata": {},
   "outputs": [],
   "source": [
    "df.columns"
   ]
  },
  {
   "cell_type": "markdown",
   "metadata": {},
   "source": [
    "#### Correlation matrix"
   ]
  },
  {
   "cell_type": "code",
   "execution_count": null,
   "metadata": {},
   "outputs": [],
   "source": [
    "# Filter out non-numeric columns for correlation analysis\n",
    "numeric_df = df.select_dtypes(include=['float64', 'int64', 'datetime64[ns]'])\n",
    "\n",
    "# Calculate the correlation matrix on the numeric data\n",
    "correlation_matrix = numeric_df.corr()\n",
    "\n",
    "# better matrix via plotly\n",
    "fig = px.imshow(correlation_matrix, text_auto=True, color_continuous_scale='Viridis')\n",
    "fig.update_layout(width=1000, height=1000)\n",
    "fig.show()\n"
   ]
  },
  {
   "cell_type": "code",
   "execution_count": null,
   "metadata": {},
   "outputs": [],
   "source": [
    "print(df.isna().sum())  # Check for missing values\n",
    "print(df.describe())  # Check for extreme values in numeric columns\n"
   ]
  },
  {
   "cell_type": "markdown",
   "metadata": {},
   "source": [
    "#### Feature importance"
   ]
  },
  {
   "cell_type": "code",
   "execution_count": null,
   "metadata": {},
   "outputs": [],
   "source": [
    "# # Split data into features (X) and target (y)\n",
    "# x = df.drop(columns=['User ID'])\n",
    "# y = df['User ID']\n",
    "\n",
    "# # Train a RandomForest model\n",
    "# model = RandomForestClassifier(n_estimators=100, random_state=42)\n",
    "# model.fit(x, y)\n",
    "\n",
    "# # Get feature importances\n",
    "# importances = model.feature_importances_\n",
    "\n",
    "# # Display feature importances\n",
    "# feature_importance_df = pd.DataFrame({\n",
    "#     'Feature': x.columns,\n",
    "#     'Importance': importances\n",
    "# })\n",
    "\n",
    "# # Sort by importance\n",
    "# feature_importance_df = feature_importance_df.sort_values(by='Importance', ascending=False)\n",
    "# print(feature_importance_df)"
   ]
  },
  {
   "cell_type": "code",
   "execution_count": null,
   "metadata": {},
   "outputs": [],
   "source": []
  }
 ],
 "metadata": {
  "kernelspec": {
   "display_name": ".venv",
   "language": "python",
   "name": "python3"
  },
  "language_info": {
   "codemirror_mode": {
    "name": "ipython",
    "version": 3
   },
   "file_extension": ".py",
   "mimetype": "text/x-python",
   "name": "python",
   "nbconvert_exporter": "python",
   "pygments_lexer": "ipython3",
   "version": "3.12.5"
  }
 },
 "nbformat": 4,
 "nbformat_minor": 2
}
