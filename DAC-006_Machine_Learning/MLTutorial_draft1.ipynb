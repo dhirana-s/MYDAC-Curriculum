{
 "cells": [
  {
   "cell_type": "code",
   "execution_count": 2,
   "metadata": {},
   "outputs": [
    {
     "ename": "SyntaxError",
     "evalue": "invalid syntax (4278987450.py, line 8)",
     "output_type": "error",
     "traceback": [
      "\u001b[1;36m  Cell \u001b[1;32mIn[2], line 8\u001b[1;36m\u001b[0m\n\u001b[1;33m    import imbalanced-learn as imblearn\u001b[0m\n\u001b[1;37m                     ^\u001b[0m\n\u001b[1;31mSyntaxError\u001b[0m\u001b[1;31m:\u001b[0m invalid syntax\n"
     ]
    }
   ],
   "source": [
    "#Goal: predict if a company goes bankrupt or not\n",
    "\n",
    "\n",
    "import pandas as pd\n",
    "import numpy as np\n",
    "import matplotlib.pyplot as plt\n",
    "import seaborn as sns\n",
    "import imbalanced-learn as imblearn\n",
    "from scipy.stats import kurtosis, skew\n",
    "\n",
    "\n",
    "from sklearn.model_selection import train_test_split\n",
    "from sklearn.ensemble import RandomForestClassifier\n",
    "from sklearn.preprocessing import StandardScaler\n",
    "from sklearn.metrics import classification_report, confusion_matrix, accuracy_score\n",
    "from imblearn.over_sampling import SMOTE"
   ]
  },
  {
   "cell_type": "code",
   "execution_count": null,
   "metadata": {},
   "outputs": [],
   "source": [
    "df = pd.read_csv('datasets/data.csv')"
   ]
  },
  {
   "cell_type": "markdown",
   "metadata": {},
   "source": [
    "Sig no. of outliers observed for most columns - via dataWrangler. Since this is financial data, check for long-tailed distribution aka tail extends further than normal distribution. If there is no long-tailed distribution, we can apply Random Forest without log transformation to account for skewness"
   ]
  },
  {
   "cell_type": "code",
   "execution_count": null,
   "metadata": {},
   "outputs": [
    {
     "name": "stdout",
     "output_type": "stream",
     "text": [
      "                                          Skewness     Kurtosis\n",
      "Fixed Assets to Assets                   82.577237  6814.000147\n",
      "Current Ratio                            82.577237  6814.000147\n",
      "Total income/Total expense               82.332424  6786.903523\n",
      "Net Value Growth Rate                    80.291844  6540.116467\n",
      "Contingent liabilities/Net worth         79.670620  6487.125425\n",
      "Realized Sales Gross Profit Growth Rate  77.925109  6291.000429\n",
      "Continuous Net Profit Growth Rate        67.097534  5392.615103\n",
      "Total Asset Return Growth Rate Ratio     62.499961  5071.235869\n",
      "Revenue per person                       59.434480  3568.408258\n",
      "Quick Assets/Current Liability           47.947300  2305.178322\n"
     ]
    }
   ],
   "source": [
    "# # #This isn't working so gonna try a diff method results unreliable according to vscode due to many identical values\n",
    "# # Calculate skewness and kurtosis for each feature\n",
    "# skewness = df.skew()\n",
    "# kurtosis_values = df.apply(kurtosis)\n",
    "\n",
    "# # Print skewness and kurtosis summary\n",
    "# summary = pd.DataFrame({'Skewness': skewness, 'Kurtosis': kurtosis_values})\n",
    "# print(summary)\n",
    "\n",
    "# # Filter for skewed features (consider skewness > 1 or < -1 as skewed)\n",
    "# skewed_features = summary[summary['Skewness'].abs() > 1]\n",
    "# print(\"Skewed Features:\")\n",
    "# print(skewed_features)\n",
    "\n",
    "\n",
    "\n",
    "#Method 2: accounting for huge no. of columns\n",
    "df_non_constant = df.loc[:, df.nunique() > 1] #filter out constant/nearly constant features to avoid precision loss issue\n",
    "\n",
    "# Calculate skewness and kurtosis for each feature\n",
    "skewness = df_non_constant.skew()\n",
    "kurtosis_values = df_non_constant.apply(kurtosis)\n",
    "\n",
    "summary = pd.DataFrame({'Skewness': skewness, 'Kurtosis': kurtosis_values}) # Create a summary DataFrame with both skewness and kurtosis\n",
    "sorted_summary = summary.sort_values(by=['Skewness', 'Kurtosis'], ascending=False) # Sort by Skewness and Kurtosis in desc order (most problematic first)\n",
    "print(sorted_summary.head(10))  # Shows top 10 most problematic columns based on skewness and kurtosis"
   ]
  },
  {
   "cell_type": "markdown",
   "metadata": {},
   "source": [
    "So there's kurtosis in the 6000s (should be around 3) and skewness in 80s (should be around 1) its very high even for financial data from a good source cos it suggests heavy-tailed distributions far from normality and extreme outliers. could be outliers but i googled and saw the years in the data are the 1997 asian financial crisis, 2001 recession, 2008 global recession Taiwan faced. But tbh the high skewness in financial data makes sense cos of the nature of how assets and liabilities behave in real world aka right skewed distribution since small no. of firms will have most of market value/revenue. Also bankruptcies are rare events that the model must capture.\n",
    "\n",
    "So things to do:\n",
    "1. find the key features w extreme values/skewness by reviewing feature importance\n",
    "2. apply log transformation to features with high skewness\n",
    "3. use tree-based model random forst which handles outliers and skewed data better\n",
    "4. Keep in mind that your target variable (bankruptcy) is likely highly imbalanced (i.e., most companies won't go bankrupt). This imbalance itself can introduce skewness into your dataset. You may need to use techniques like SMOTE (Synthetic Minority Over-sampling Technique) or class weighting in your model to account for the imbalance."
   ]
  },
  {
   "cell_type": "code",
   "execution_count": null,
   "metadata": {},
   "outputs": [
    {
     "name": "stdout",
     "output_type": "stream",
     "text": [
      "Accuracy: 0.9655\n",
      "Confusion Matrix:\n",
      "[[1310    3]\n",
      " [  44    7]]\n",
      "\n",
      "Classification Report:\n",
      "              precision    recall  f1-score   support\n",
      "\n",
      "           0       0.97      1.00      0.98      1313\n",
      "           1       0.70      0.14      0.23        51\n",
      "\n",
      "    accuracy                           0.97      1364\n",
      "   macro avg       0.83      0.57      0.61      1364\n",
      "weighted avg       0.96      0.97      0.95      1364\n",
      "\n"
     ]
    }
   ],
   "source": [
    "# y = df['Bankrupt?']\n",
    "# x = df.drop('Bankrupt?', axis=1)\n",
    "\n",
    "# x_train, x_test, y_train, y_test = train_test_split(x, y, test_size=0.2, random_state=42)\n",
    "\n",
    "\n",
    "# scaler = StandardScaler() #initialise scaler to bring it to normal distribution\n",
    "# x_train_scaled = scaler.fit_transform(x_train) #fit scaler on training data and transform it\n",
    "# x_test_scaled = scaler.transform(x_test) #transform test data using same scaler\n",
    "\n",
    "\n",
    "# model = RandomForestClassifier(n_estimators=10, random_state=42) # Initialize the model\n",
    "# model.fit(x_train_scaled, y_train) # Fit the model to the training data\n",
    "\n",
    "\n",
    "# y_pred = model.predict(x_test_scaled) #get the trained model to make predictions on test set\n",
    "\n",
    "\n",
    "# # Now we can evaluate how well the model did.\n",
    "# accuracy = accuracy_score(y_test, y_pred)\n",
    "# print(f'Accuracy: {accuracy:.4f}')\n",
    "\n",
    "# # Confusion matrix\n",
    "# print('Confusion Matrix:')\n",
    "# print(confusion_matrix(y_test, y_pred))\n",
    "\n",
    "# # Classification report (precision, recall, f1-score)\n",
    "# print('\\nClassification Report:')\n",
    "# print(classification_report(y_test, y_pred))"
   ]
  },
  {
   "cell_type": "markdown",
   "metadata": {},
   "source": [
    "So accuracy is noice. But a bit misleading since got very imbalanced classes (ie. lot more safe than bankrupty firms). The model is just predicting the majority safe class correctly.\n",
    "\n",
    "Problems:\n",
    "1. there are 44 firms predicted to be safe but were actually bankrupt.\n",
    "2. only 70% precision for class 1 - meaning only 70% of firms predicted to be bankrupt were actually bankrupt\n",
    "3. only 14% recall for class 1 - meaning only 14% of actually bankrupt firms were correctly predicted as bankrupt. very bad cos the model is failing to identify many bankrupt companies."
   ]
  },
  {
   "cell_type": "code",
   "execution_count": null,
   "metadata": {},
   "outputs": [],
   "source": [
    "#Let's try again.\n",
    "#add in the class_weight='balanced' to the model and see how."
   ]
  },
  {
   "cell_type": "code",
   "execution_count": null,
   "metadata": {},
   "outputs": [
    {
     "name": "stdout",
     "output_type": "stream",
     "text": [
      "Accuracy: 0.9670\n",
      "Confusion Matrix:\n",
      "[[1309    4]\n",
      " [  41   10]]\n",
      "\n",
      "Classification Report:\n",
      "              precision    recall  f1-score   support\n",
      "\n",
      "           0       0.97      1.00      0.98      1313\n",
      "           1       0.71      0.20      0.31        51\n",
      "\n",
      "    accuracy                           0.97      1364\n",
      "   macro avg       0.84      0.60      0.65      1364\n",
      "weighted avg       0.96      0.97      0.96      1364\n",
      "\n"
     ]
    }
   ],
   "source": [
    "# y = df['Bankrupt?']\n",
    "# x = df.drop('Bankrupt?', axis=1)\n",
    "\n",
    "# x_train, x_test, y_train, y_test = train_test_split(x, y, test_size=0.2, random_state=42)\n",
    "\n",
    "\n",
    "# scaler = StandardScaler() #initialise scaler to bring it to normal distribution\n",
    "# x_train_scaled = scaler.fit_transform(x_train) #fit scaler on training data and transform it\n",
    "# x_test_scaled = scaler.transform(x_test) #transform test data using same scaler\n",
    "\n",
    "\n",
    "# model = RandomForestClassifier(n_estimators=10, class_weight='balanced', random_state=42) # Initialize the model\n",
    "# model.fit(x_train_scaled, y_train) # Fit the model to the training data\n",
    "\n",
    "\n",
    "# y_pred = model.predict(x_test_scaled) #get the trained model to make predictions on test set\n",
    "\n",
    "\n",
    "# # Now we can evaluate how well the model did.\n",
    "# accuracy = accuracy_score(y_test, y_pred)\n",
    "# print(f'Accuracy: {accuracy:.4f}')\n",
    "\n",
    "# # Confusion matrix\n",
    "# print('Confusion Matrix:')\n",
    "# print(confusion_matrix(y_test, y_pred))\n",
    "\n",
    "# # Classification report (precision, recall, f1-score)\n",
    "# print('\\nClassification Report:')\n",
    "# print(classification_report(y_test, y_pred))"
   ]
  },
  {
   "cell_type": "markdown",
   "metadata": {},
   "source": [
    "there are small improvements noice. let's test out SMOTE."
   ]
  },
  {
   "cell_type": "code",
   "execution_count": null,
   "metadata": {},
   "outputs": [
    {
     "ename": "NameError",
     "evalue": "name 'SMOTE' is not defined",
     "output_type": "error",
     "traceback": [
      "\u001b[1;31m---------------------------------------------------------------------------\u001b[0m",
      "\u001b[1;31mNameError\u001b[0m                                 Traceback (most recent call last)",
      "Cell \u001b[1;32mIn[42], line 7\u001b[0m\n\u001b[0;32m      2\u001b[0m x \u001b[38;5;241m=\u001b[39m df\u001b[38;5;241m.\u001b[39mdrop(\u001b[38;5;124m'\u001b[39m\u001b[38;5;124mBankrupt?\u001b[39m\u001b[38;5;124m'\u001b[39m, axis\u001b[38;5;241m=\u001b[39m\u001b[38;5;241m1\u001b[39m)\n\u001b[0;32m      4\u001b[0m x_train, x_test, y_train, y_test \u001b[38;5;241m=\u001b[39m train_test_split(x, y, test_size\u001b[38;5;241m=\u001b[39m\u001b[38;5;241m0.2\u001b[39m, random_state\u001b[38;5;241m=\u001b[39m\u001b[38;5;241m42\u001b[39m)\n\u001b[1;32m----> 7\u001b[0m smote \u001b[38;5;241m=\u001b[39m \u001b[43mSMOTE\u001b[49m(random_state\u001b[38;5;241m=\u001b[39m\u001b[38;5;241m42\u001b[39m) \u001b[38;5;66;03m#initialise SMOTE\u001b[39;00m\n\u001b[0;32m      9\u001b[0m x_train_smote, y_train_smote \u001b[38;5;241m=\u001b[39m smote\u001b[38;5;241m.\u001b[39mfit_resample(x_train, y_train)\n\u001b[0;32m     10\u001b[0m \u001b[38;5;28mprint\u001b[39m(\u001b[38;5;124m\"\u001b[39m\u001b[38;5;124mBefore SMOTE:\u001b[39m\u001b[38;5;124m\"\u001b[39m, y_train\u001b[38;5;241m.\u001b[39mvalue_counts())\n",
      "\u001b[1;31mNameError\u001b[0m: name 'SMOTE' is not defined"
     ]
    }
   ],
   "source": [
    "y = df['Bankrupt?']\n",
    "x = df.drop('Bankrupt?', axis=1)\n",
    "\n",
    "x_train, x_test, y_train, y_test = train_test_split(x, y, test_size=0.2, random_state=42)\n",
    "\n",
    "\n",
    "smote = SMOTE(random_state=42) #initialise SMOTE\n",
    "\n",
    "x_train_smote, y_train_smote = smote.fit_resample(x_train, y_train)\n",
    "print(\"Before SMOTE:\", y_train.value_counts())\n",
    "print(\"After SMOTE:\", pd.Series(y_train_smote).value_counts())\n",
    "\n",
    "\n",
    "\n",
    "# scaler = StandardScaler() #initialise scaler to bring it to normal distribution\n",
    "# x_train_scaled = scaler.fit_transform(x_train) #fit scaler on training data and transform it\n",
    "# x_test_scaled = scaler.transform(x_test) #transform test data using same scaler\n",
    "\n",
    "\n",
    "# model = RandomForestClassifier(n_estimators=10, class_weight='balanced', random_state=42) # Initialize the model\n",
    "# model.fit(x_train_scaled, y_train) # Fit the model to the training data\n",
    "\n",
    "\n",
    "# y_pred = model.predict(x_test_scaled) #get the trained model to make predictions on test set\n",
    "\n",
    "\n",
    "# # Now we can evaluate how well the model did.\n",
    "# accuracy = accuracy_score(y_test, y_pred)\n",
    "# print(f'Accuracy: {accuracy:.4f}')\n",
    "\n",
    "# # Confusion matrix\n",
    "# print('Confusion Matrix:')\n",
    "# print(confusion_matrix(y_test, y_pred))\n",
    "\n",
    "# # Classification report (precision, recall, f1-score)\n",
    "# print('\\nClassification Report:')\n",
    "# print(classification_report(y_test, y_pred))"
   ]
  }
 ],
 "metadata": {
  "kernelspec": {
   "display_name": ".venv",
   "language": "python",
   "name": "python3"
  },
  "language_info": {
   "codemirror_mode": {
    "name": "ipython",
    "version": 3
   },
   "file_extension": ".py",
   "mimetype": "text/x-python",
   "name": "python",
   "nbconvert_exporter": "python",
   "pygments_lexer": "ipython3",
   "version": "3.12.5"
  }
 },
 "nbformat": 4,
 "nbformat_minor": 2
}
