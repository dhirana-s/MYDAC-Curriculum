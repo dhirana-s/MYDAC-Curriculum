{
 "cells": [
  {
   "cell_type": "code",
   "execution_count": 2,
   "metadata": {},
   "outputs": [],
   "source": [
    "import pandas as pd\n",
    "import matplotlib.pyplot as plt\n",
    "import seaborn as sns"
   ]
  },
  {
   "cell_type": "code",
   "execution_count": 3,
   "metadata": {},
   "outputs": [],
   "source": [
    "df = pd.read_csv('Electric_Vehicles.csv')"
   ]
  },
  {
   "cell_type": "code",
   "execution_count": 6,
   "metadata": {},
   "outputs": [
    {
     "name": "stdout",
     "output_type": "stream",
     "text": [
      "User ID                                             object\n",
      "Vehicle Model                                     category\n",
      "Battery Capacity (kWh)                             float64\n",
      "Charging Station ID                                 object\n",
      "Charging Station Location                         category\n",
      "Charging Start Time                         datetime64[ns]\n",
      "Charging End Time                           datetime64[ns]\n",
      "Energy Consumed (kWh)                              float64\n",
      "Charging Duration (hours)                          float64\n",
      "Charging Rate (kW)                                 float64\n",
      "Charging Cost (USD)                                float64\n",
      "Time of Day                                       category\n",
      "Day of Week                                       category\n",
      "State of Charge (Start %)                          float64\n",
      "State of Charge (End %)                            float64\n",
      "Distance Driven (since last charge) (km)           float64\n",
      "Temperature (°C)                                   float64\n",
      "Vehicle Age (years)                                float64\n",
      "Charger Type                                      category\n",
      "User Type                                         category\n",
      "dtype: object\n"
     ]
    }
   ],
   "source": [
    "#Optimising memory by appling correct data types to features\n",
    "df = df.astype({\n",
    "    'User ID': 'str',\n",
    "    'Vehicle Model': 'category',\n",
    "    'Charging Station ID': 'str',\n",
    "    'Charging Station Location': 'category',\n",
    "    'Charging Start Time': 'datetime64[ns]',\n",
    "    'Charging End Time': 'datetime64[ns]',\n",
    "    'Time of Day': 'category',\n",
    "    'Day of Week': 'category',\n",
    "    'Charger Type': 'category',\n",
    "    'User Type': 'category'\n",
    "})\n",
    "\n",
    "print(df.dtypes)\n",
    "\n",
    "\n",
    "#Replace missing values with median\n",
    "df[['Energy Consumed (kWh)', 'Charging Rate (kW)', 'Distance Driven (since last charge) (km)']] = df[['Energy Consumed (kWh)', 'Charging Rate (kW)', 'Distance Driven (since last charge) (km)']].fillna(df[['Energy Consumed (kWh)', 'Charging Rate (kW)', 'Distance Driven (since last charge) (km)']].median())\n",
    "# df.isnull().sum()"
   ]
  },
  {
   "cell_type": "code",
   "execution_count": 10,
   "metadata": {},
   "outputs": [
    {
     "name": "stdout",
     "output_type": "stream",
     "text": [
      "Remaining rows after removing inconsistencies:  1052\n"
     ]
    }
   ],
   "source": [
    "inconsistent_charge = df[df['State of Charge (Start %)'] > df['State of Charge (End %)']]\n",
    "df = df.drop(inconsistent_charge.index)\n",
    "print(\"Remaining rows after removing inconsistencies: \", len(df))"
   ]
  },
  {
   "cell_type": "code",
   "execution_count": 15,
   "metadata": {},
   "outputs": [
    {
     "data": {
      "text/plain": [
       "Index(['User ID', 'Vehicle Model', 'Battery Capacity (kWh)',\n",
       "       'Charging Station ID', 'Charging Station Location',\n",
       "       'Charging Start Time', 'Charging End Time', 'Energy Consumed (kWh)',\n",
       "       'Charging Duration (hours)', 'Charging Rate (kW)',\n",
       "       'Charging Cost (USD)', 'Time of Day', 'Day of Week',\n",
       "       'State of Charge (Start %)', 'State of Charge (End %)',\n",
       "       'Distance Driven (since last charge) (km)', 'Temperature (°C)',\n",
       "       'Vehicle Age (years)', 'Charger Type', 'User Type'],\n",
       "      dtype='object')"
      ]
     },
     "execution_count": 15,
     "metadata": {},
     "output_type": "execute_result"
    }
   ],
   "source": [
    "df.columns"
   ]
  },
  {
   "cell_type": "code",
   "execution_count": null,
   "metadata": {},
   "outputs": [],
   "source": [
    "# mismatched_durations = df[\n",
    "#     (df['Charging End Time'] - df['Charging Start Time']).dt.total_seconds() / 3600 != df['Charging Duration (hours)']\n",
    "# ]\n",
    "\n",
    "# # Display the number of mismatched rows and their details\n",
    "# print(f\"Number of mismatched rows: {len(mismatched_durations)}\")\n",
    "# print(mismatched_durations[['Charging Start Time', 'Charging End Time', 'Charging Duration (hours)']])"
   ]
  },
  {
   "cell_type": "code",
   "execution_count": 16,
   "metadata": {},
   "outputs": [
    {
     "ename": "KeyError",
     "evalue": "\"None of [TimedeltaIndex(['0 days 00:39:00', '0 days 02:01:00', '0 days 02:48:00',\\n                '0 days 03:42:00', '0 days 01:46:00', '0 days 01:53:00',\\n                '0 days 03:42:00', '0 days 01:21:00', '0 days 03:44:00',\\n                '0 days 03:59:00',\\n                ...\\n                '0 days 01:57:00', '0 days 01:57:00', '0 days 03:50:00',\\n                '0 days 03:53:00', '0 days 02:54:00', '0 days 02:35:00',\\n                '0 days 01:58:00', '0 days 01:30:00', '0 days 00:44:00',\\n                '0 days 02:03:00'],\\n               dtype='timedelta64[ns]', length=1052, freq=None)] are in the [columns]\"",
     "output_type": "error",
     "traceback": [
      "\u001b[1;31m---------------------------------------------------------------------------\u001b[0m",
      "\u001b[1;31mKeyError\u001b[0m                                  Traceback (most recent call last)",
      "Cell \u001b[1;32mIn[16], line 2\u001b[0m\n\u001b[0;32m      1\u001b[0m \u001b[38;5;66;03m#checking if charging duration (hours) = Charging Start Time - Charging End Time\u001b[39;00m\n\u001b[1;32m----> 2\u001b[0m mismatched_durations \u001b[38;5;241m=\u001b[39m \u001b[43mdf\u001b[49m\u001b[43m[\u001b[49m\u001b[43m(\u001b[49m\u001b[43mdf\u001b[49m\u001b[43m[\u001b[49m\u001b[38;5;124;43m'\u001b[39;49m\u001b[38;5;124;43mCharging End Time\u001b[39;49m\u001b[38;5;124;43m'\u001b[39;49m\u001b[43m]\u001b[49m\u001b[43m \u001b[49m\u001b[38;5;241;43m-\u001b[39;49m\u001b[43m \u001b[49m\u001b[43mdf\u001b[49m\u001b[43m[\u001b[49m\u001b[38;5;124;43m'\u001b[39;49m\u001b[38;5;124;43mCharging Start Time\u001b[39;49m\u001b[38;5;124;43m'\u001b[39;49m\u001b[43m]\u001b[49m\u001b[43m)\u001b[49m\u001b[43m]\u001b[49m\n\u001b[0;32m      4\u001b[0m \u001b[38;5;28mprint\u001b[39m(\u001b[38;5;28mlen\u001b[39m(mismatched_durations))\n",
      "File \u001b[1;32mc:\\Desktop\\coding\\MYDAC-Curriculum\\.venv\\Lib\\site-packages\\pandas\\core\\frame.py:4108\u001b[0m, in \u001b[0;36mDataFrame.__getitem__\u001b[1;34m(self, key)\u001b[0m\n\u001b[0;32m   4106\u001b[0m     \u001b[38;5;28;01mif\u001b[39;00m is_iterator(key):\n\u001b[0;32m   4107\u001b[0m         key \u001b[38;5;241m=\u001b[39m \u001b[38;5;28mlist\u001b[39m(key)\n\u001b[1;32m-> 4108\u001b[0m     indexer \u001b[38;5;241m=\u001b[39m \u001b[38;5;28;43mself\u001b[39;49m\u001b[38;5;241;43m.\u001b[39;49m\u001b[43mcolumns\u001b[49m\u001b[38;5;241;43m.\u001b[39;49m\u001b[43m_get_indexer_strict\u001b[49m\u001b[43m(\u001b[49m\u001b[43mkey\u001b[49m\u001b[43m,\u001b[49m\u001b[43m \u001b[49m\u001b[38;5;124;43m\"\u001b[39;49m\u001b[38;5;124;43mcolumns\u001b[39;49m\u001b[38;5;124;43m\"\u001b[39;49m\u001b[43m)\u001b[49m[\u001b[38;5;241m1\u001b[39m]\n\u001b[0;32m   4110\u001b[0m \u001b[38;5;66;03m# take() does not accept boolean indexers\u001b[39;00m\n\u001b[0;32m   4111\u001b[0m \u001b[38;5;28;01mif\u001b[39;00m \u001b[38;5;28mgetattr\u001b[39m(indexer, \u001b[38;5;124m\"\u001b[39m\u001b[38;5;124mdtype\u001b[39m\u001b[38;5;124m\"\u001b[39m, \u001b[38;5;28;01mNone\u001b[39;00m) \u001b[38;5;241m==\u001b[39m \u001b[38;5;28mbool\u001b[39m:\n",
      "File \u001b[1;32mc:\\Desktop\\coding\\MYDAC-Curriculum\\.venv\\Lib\\site-packages\\pandas\\core\\indexes\\base.py:6200\u001b[0m, in \u001b[0;36mIndex._get_indexer_strict\u001b[1;34m(self, key, axis_name)\u001b[0m\n\u001b[0;32m   6197\u001b[0m \u001b[38;5;28;01melse\u001b[39;00m:\n\u001b[0;32m   6198\u001b[0m     keyarr, indexer, new_indexer \u001b[38;5;241m=\u001b[39m \u001b[38;5;28mself\u001b[39m\u001b[38;5;241m.\u001b[39m_reindex_non_unique(keyarr)\n\u001b[1;32m-> 6200\u001b[0m \u001b[38;5;28;43mself\u001b[39;49m\u001b[38;5;241;43m.\u001b[39;49m\u001b[43m_raise_if_missing\u001b[49m\u001b[43m(\u001b[49m\u001b[43mkeyarr\u001b[49m\u001b[43m,\u001b[49m\u001b[43m \u001b[49m\u001b[43mindexer\u001b[49m\u001b[43m,\u001b[49m\u001b[43m \u001b[49m\u001b[43maxis_name\u001b[49m\u001b[43m)\u001b[49m\n\u001b[0;32m   6202\u001b[0m keyarr \u001b[38;5;241m=\u001b[39m \u001b[38;5;28mself\u001b[39m\u001b[38;5;241m.\u001b[39mtake(indexer)\n\u001b[0;32m   6203\u001b[0m \u001b[38;5;28;01mif\u001b[39;00m \u001b[38;5;28misinstance\u001b[39m(key, Index):\n\u001b[0;32m   6204\u001b[0m     \u001b[38;5;66;03m# GH 42790 - Preserve name from an Index\u001b[39;00m\n",
      "File \u001b[1;32mc:\\Desktop\\coding\\MYDAC-Curriculum\\.venv\\Lib\\site-packages\\pandas\\core\\indexes\\base.py:6249\u001b[0m, in \u001b[0;36mIndex._raise_if_missing\u001b[1;34m(self, key, indexer, axis_name)\u001b[0m\n\u001b[0;32m   6247\u001b[0m \u001b[38;5;28;01mif\u001b[39;00m nmissing:\n\u001b[0;32m   6248\u001b[0m     \u001b[38;5;28;01mif\u001b[39;00m nmissing \u001b[38;5;241m==\u001b[39m \u001b[38;5;28mlen\u001b[39m(indexer):\n\u001b[1;32m-> 6249\u001b[0m         \u001b[38;5;28;01mraise\u001b[39;00m \u001b[38;5;167;01mKeyError\u001b[39;00m(\u001b[38;5;124mf\u001b[39m\u001b[38;5;124m\"\u001b[39m\u001b[38;5;124mNone of [\u001b[39m\u001b[38;5;132;01m{\u001b[39;00mkey\u001b[38;5;132;01m}\u001b[39;00m\u001b[38;5;124m] are in the [\u001b[39m\u001b[38;5;132;01m{\u001b[39;00maxis_name\u001b[38;5;132;01m}\u001b[39;00m\u001b[38;5;124m]\u001b[39m\u001b[38;5;124m\"\u001b[39m)\n\u001b[0;32m   6251\u001b[0m     not_found \u001b[38;5;241m=\u001b[39m \u001b[38;5;28mlist\u001b[39m(ensure_index(key)[missing_mask\u001b[38;5;241m.\u001b[39mnonzero()[\u001b[38;5;241m0\u001b[39m]]\u001b[38;5;241m.\u001b[39munique())\n\u001b[0;32m   6252\u001b[0m     \u001b[38;5;28;01mraise\u001b[39;00m \u001b[38;5;167;01mKeyError\u001b[39;00m(\u001b[38;5;124mf\u001b[39m\u001b[38;5;124m\"\u001b[39m\u001b[38;5;132;01m{\u001b[39;00mnot_found\u001b[38;5;132;01m}\u001b[39;00m\u001b[38;5;124m not in index\u001b[39m\u001b[38;5;124m\"\u001b[39m)\n",
      "\u001b[1;31mKeyError\u001b[0m: \"None of [TimedeltaIndex(['0 days 00:39:00', '0 days 02:01:00', '0 days 02:48:00',\\n                '0 days 03:42:00', '0 days 01:46:00', '0 days 01:53:00',\\n                '0 days 03:42:00', '0 days 01:21:00', '0 days 03:44:00',\\n                '0 days 03:59:00',\\n                ...\\n                '0 days 01:57:00', '0 days 01:57:00', '0 days 03:50:00',\\n                '0 days 03:53:00', '0 days 02:54:00', '0 days 02:35:00',\\n                '0 days 01:58:00', '0 days 01:30:00', '0 days 00:44:00',\\n                '0 days 02:03:00'],\\n               dtype='timedelta64[ns]', length=1052, freq=None)] are in the [columns]\""
     ]
    }
   ],
   "source": [
    "#checking if charging duration (hours) = Charging Start Time - Charging End Time\n",
    "mismatched_durations = df[(df['Charging End Time'] - df['Charging Start Time'])]\n",
    "\n",
    "print(len(mismatched_durations))"
   ]
  }
 ],
 "metadata": {
  "kernelspec": {
   "display_name": ".venv",
   "language": "python",
   "name": "python3"
  },
  "language_info": {
   "codemirror_mode": {
    "name": "ipython",
    "version": 3
   },
   "file_extension": ".py",
   "mimetype": "text/x-python",
   "name": "python",
   "nbconvert_exporter": "python",
   "pygments_lexer": "ipython3",
   "version": "3.12.5"
  }
 },
 "nbformat": 4,
 "nbformat_minor": 2
}
