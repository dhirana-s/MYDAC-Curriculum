{
 "cells": [
  {
   "cell_type": "code",
   "execution_count": 1,
   "metadata": {},
   "outputs": [],
   "source": [
    "import pandas as pd\n",
    "import matplotlib.pyplot as plt\n",
    "import seaborn as sns"
   ]
  },
  {
   "cell_type": "code",
   "execution_count": 2,
   "metadata": {},
   "outputs": [],
   "source": [
    "df = pd.read_csv('Electric_Vehicles.csv')"
   ]
  },
  {
   "cell_type": "code",
   "execution_count": 3,
   "metadata": {},
   "outputs": [
    {
     "name": "stdout",
     "output_type": "stream",
     "text": [
      "User ID                                             object\n",
      "Vehicle Model                                     category\n",
      "Battery Capacity (kWh)                             float64\n",
      "Charging Station ID                                 object\n",
      "Charging Station Location                         category\n",
      "Charging Start Time                         datetime64[ns]\n",
      "Charging End Time                           datetime64[ns]\n",
      "Energy Consumed (kWh)                              float64\n",
      "Charging Duration (hours)                          float64\n",
      "Charging Rate (kW)                                 float64\n",
      "Charging Cost (USD)                                float64\n",
      "Time of Day                                       category\n",
      "Day of Week                                       category\n",
      "State of Charge (Start %)                          float64\n",
      "State of Charge (End %)                            float64\n",
      "Distance Driven (since last charge) (km)           float64\n",
      "Temperature (°C)                                   float64\n",
      "Vehicle Age (years)                                float64\n",
      "Charger Type                                      category\n",
      "User Type                                         category\n",
      "dtype: object\n"
     ]
    },
    {
     "data": {
      "text/plain": [
       "User ID                                     0\n",
       "Vehicle Model                               0\n",
       "Battery Capacity (kWh)                      0\n",
       "Charging Station ID                         0\n",
       "Charging Station Location                   0\n",
       "Charging Start Time                         0\n",
       "Charging End Time                           0\n",
       "Energy Consumed (kWh)                       0\n",
       "Charging Duration (hours)                   0\n",
       "Charging Rate (kW)                          0\n",
       "Charging Cost (USD)                         0\n",
       "Time of Day                                 0\n",
       "Day of Week                                 0\n",
       "State of Charge (Start %)                   0\n",
       "State of Charge (End %)                     0\n",
       "Distance Driven (since last charge) (km)    0\n",
       "Temperature (°C)                            0\n",
       "Vehicle Age (years)                         0\n",
       "Charger Type                                0\n",
       "User Type                                   0\n",
       "dtype: int64"
      ]
     },
     "execution_count": 3,
     "metadata": {},
     "output_type": "execute_result"
    }
   ],
   "source": [
    "#Optimising memory by appling correct data types to features\n",
    "df = df.astype({\n",
    "    'User ID': 'str',\n",
    "    'Vehicle Model': 'category',\n",
    "    'Charging Station ID': 'str',\n",
    "    'Charging Station Location': 'category',\n",
    "    'Charging Start Time': 'datetime64[ns]',\n",
    "    'Charging End Time': 'datetime64[ns]',\n",
    "    'Time of Day': 'category',\n",
    "    'Day of Week': 'category',\n",
    "    'Charger Type': 'category',\n",
    "    'User Type': 'category'\n",
    "})\n",
    "\n",
    "print(df.dtypes)\n",
    "\n",
    "\n",
    "#Replace missing values with median\n",
    "df[['Energy Consumed (kWh)', 'Charging Rate (kW)', 'Distance Driven (since last charge) (km)']] = df[['Energy Consumed (kWh)', 'Charging Rate (kW)', 'Distance Driven (since last charge) (km)']].fillna(df[['Energy Consumed (kWh)', 'Charging Rate (kW)', 'Distance Driven (since last charge) (km)']].median())\n",
    "df.isnull().sum()"
   ]
  },
  {
   "cell_type": "code",
   "execution_count": 4,
   "metadata": {},
   "outputs": [
    {
     "name": "stdout",
     "output_type": "stream",
     "text": [
      "Inconsistent charges:  268\n",
      "\n",
      "Inconsistent stations:\n",
      "Charging Station ID\n",
      "Station_1      3\n",
      "Station_10     4\n",
      "Station_100    2\n",
      "Station_101    3\n",
      "Station_103    4\n",
      "              ..\n",
      "Station_213    2\n",
      "Station_214    3\n",
      "Station_215    2\n",
      "Station_216    4\n",
      "Station_217    2\n",
      "Name: Charging Station Location, Length: 100, dtype: int64\n",
      "\n",
      "\n",
      "Rows with Negative Energy Consumed:\n",
      "Empty DataFrame\n",
      "Columns: [User ID, Vehicle Model, Battery Capacity (kWh), Charging Station ID, Charging Station Location, Charging Start Time, Charging End Time, Energy Consumed (kWh), Charging Duration (hours), Charging Rate (kW), Charging Cost (USD), Time of Day, Day of Week, State of Charge (Start %), State of Charge (End %), Distance Driven (since last charge) (km), Temperature (°C), Vehicle Age (years), Charger Type, User Type]\n",
      "Index: []\n",
      "\n",
      "\n",
      "Rows with Negative Distance Driven:\n",
      "Empty DataFrame\n",
      "Columns: [User ID, Vehicle Model, Battery Capacity (kWh), Charging Station ID, Charging Station Location, Charging Start Time, Charging End Time, Energy Consumed (kWh), Charging Duration (hours), Charging Rate (kW), Charging Cost (USD), Time of Day, Day of Week, State of Charge (Start %), State of Charge (End %), Distance Driven (since last charge) (km), Temperature (°C), Vehicle Age (years), Charger Type, User Type]\n",
      "Index: []\n"
     ]
    }
   ],
   "source": [
    "inconsistent_charge = df[df['State of Charge (Start %)'] > df['State of Charge (End %)']]\n",
    "print(\"Inconsistent charges: \", len(inconsistent_charge))\n",
    "\n",
    "\n",
    "print(\"\\nInconsistent stations:\")\n",
    "inconsistent_stations = df.groupby('Charging Station ID')['Charging Station Location'].nunique()\n",
    "inconsistent_stations = inconsistent_stations[inconsistent_stations > 1]\n",
    "print(inconsistent_stations.head(100))  \n",
    "\n",
    "\n",
    "# Check for negative values\n",
    "print(\"\\n\\nRows with Negative Energy Consumed:\")\n",
    "print(df[df['Energy Consumed (kWh)'] < 0])\n",
    "\n",
    "print(\"\\n\\nRows with Negative Distance Driven:\")\n",
    "print(df[df['Distance Driven (since last charge) (km)'] < 0])"
   ]
  },
  {
   "cell_type": "code",
   "execution_count": 5,
   "metadata": {},
   "outputs": [],
   "source": [
    "# df = pd.get_dummies(df, columns=['Vehicle Model', 'Charging Station Location', 'Time of Day', 'Day of Week', 'Charger Type', 'User Type'])\n",
    "\n",
    "# # Convert only one-hot encoded columns to integers\n",
    "# df = df.apply(lambda x: x.astype(int) if x.dtype == 'bool' else x)\n",
    "\n",
    "# print(df.dtypes)"
   ]
  },
  {
   "cell_type": "markdown",
   "metadata": {},
   "source": []
  },
  {
   "cell_type": "markdown",
   "metadata": {},
   "source": []
  },
  {
   "cell_type": "markdown",
   "metadata": {},
   "source": []
  },
  {
   "cell_type": "code",
   "execution_count": 11,
   "metadata": {},
   "outputs": [
    {
     "name": "stdout",
     "output_type": "stream",
     "text": [
      "Charging Station Location\n",
      "Chicago          193\n",
      "Houston          201\n",
      "Los Angeles      219\n",
      "New York         204\n",
      "San Francisco    199\n",
      "Name: Charging Station ID, dtype: int64\n"
     ]
    },
    {
     "name": "stderr",
     "output_type": "stream",
     "text": [
      "C:\\Users\\Ysuns\\AppData\\Local\\Temp\\ipykernel_51564\\127984895.py:2: FutureWarning: The default of observed=False is deprecated and will be changed to True in a future version of pandas. Pass observed=False to retain current behavior or observed=True to adopt the future default and silence this warning.\n",
      "  station_count_by_location = df.groupby('Charging Station Location')['Charging Station ID'].nunique()\n"
     ]
    }
   ],
   "source": [
    "# Count the number of unique charging stations in each location\n",
    "station_count_by_location = df.groupby('Charging Station Location')['Charging Station ID'].nunique()\n",
    "\n",
    "# Display the number of charging stations in each location\n",
    "print(station_count_by_location)"
   ]
  },
  {
   "cell_type": "code",
   "execution_count": null,
   "metadata": {},
   "outputs": [
    {
     "name": "stdout",
     "output_type": "stream",
     "text": [
      "Charging Station ID\n",
      "Station_1      0.024234\n",
      "Station_10     0.053256\n",
      "Station_100    0.014609\n",
      "Station_101    0.022803\n",
      "Station_103    0.033316\n",
      "                 ...   \n",
      "Station_95     0.001925\n",
      "Station_96     0.014659\n",
      "Station_97     0.038498\n",
      "Station_98     0.024579\n",
      "Station_99     0.010562\n",
      "Name: Charging Hours, Length: 462, dtype: float64\n"
     ]
    }
   ],
   "source": [
    "# Calculate total hours of operation for each station\n",
    "df['Charging Hours'] = (df['Charging End Time'] - df['Charging Start Time']).dt.total_seconds() / 3600\n",
    "\n",
    "# Sum up charging hours by station\n",
    "station_utilization = df.groupby('Charging Station ID')['Charging Hours'].sum()\n",
    "\n",
    "# Assuming each station operates 24/7 with N chargers, calculate utilization rate\n",
    "stations_per_Houston = 201  # number of charging stations IDs in Houston\n",
    "station_utilization_rate = (station_utilization / (24 * stations_per_Houston * 7)) * 100\n",
    "\n",
    "print(station_utilization_rate)"
   ]
  },
  {
   "cell_type": "code",
   "execution_count": null,
   "metadata": {},
   "outputs": [],
   "source": []
  }
 ],
 "metadata": {
  "kernelspec": {
   "display_name": ".venv",
   "language": "python",
   "name": "python3"
  },
  "language_info": {
   "codemirror_mode": {
    "name": "ipython",
    "version": 3
   },
   "file_extension": ".py",
   "mimetype": "text/x-python",
   "name": "python",
   "nbconvert_exporter": "python",
   "pygments_lexer": "ipython3",
   "version": "3.12.5"
  }
 },
 "nbformat": 4,
 "nbformat_minor": 2
}
