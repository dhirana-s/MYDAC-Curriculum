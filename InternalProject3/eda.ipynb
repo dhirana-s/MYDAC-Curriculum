{
 "cells": [
  {
   "cell_type": "code",
   "execution_count": 2,
   "metadata": {},
   "outputs": [],
   "source": [
    "import pandas as pd\n",
    "import matplotlib.pyplot as plt\n",
    "import seaborn as sns"
   ]
  },
  {
   "cell_type": "code",
   "execution_count": 3,
   "metadata": {},
   "outputs": [],
   "source": [
    "df = pd.read_csv('Electric_Vehicles.csv')"
   ]
  },
  {
   "cell_type": "code",
   "execution_count": 4,
   "metadata": {},
   "outputs": [
    {
     "name": "stdout",
     "output_type": "stream",
     "text": [
      "User ID                                             object\n",
      "Vehicle Model                                     category\n",
      "Battery Capacity (kWh)                             float64\n",
      "Charging Station ID                                 object\n",
      "Charging Station Location                         category\n",
      "Charging Start Time                         datetime64[ns]\n",
      "Charging End Time                           datetime64[ns]\n",
      "Energy Consumed (kWh)                              float64\n",
      "Charging Duration (hours)                          float64\n",
      "Charging Rate (kW)                                 float64\n",
      "Charging Cost (USD)                                float64\n",
      "Time of Day                                       category\n",
      "Day of Week                                       category\n",
      "State of Charge (Start %)                          float64\n",
      "State of Charge (End %)                            float64\n",
      "Distance Driven (since last charge) (km)           float64\n",
      "Temperature (°C)                                   float64\n",
      "Vehicle Age (years)                                float64\n",
      "Charger Type                                      category\n",
      "User Type                                         category\n",
      "dtype: object\n"
     ]
    }
   ],
   "source": [
    "#Optimising memory by appling correct data types to features\n",
    "df = df.astype({\n",
    "    'User ID': 'str',\n",
    "    'Vehicle Model': 'category',\n",
    "    'Charging Station ID': 'str',\n",
    "    'Charging Station Location': 'category',\n",
    "    'Charging Start Time': 'datetime64[ns]',\n",
    "    'Charging End Time': 'datetime64[ns]',\n",
    "    'Time of Day': 'category',\n",
    "    'Day of Week': 'category',\n",
    "    'Charger Type': 'category',\n",
    "    'User Type': 'category'\n",
    "})\n",
    "\n",
    "print(df.dtypes)\n",
    "\n",
    "\n",
    "#Replace missing values with median\n",
    "df[['Energy Consumed (kWh)', 'Charging Rate (kW)', 'Distance Driven (since last charge) (km)']] = df[['Energy Consumed (kWh)', 'Charging Rate (kW)', 'Distance Driven (since last charge) (km)']].fillna(df[['Energy Consumed (kWh)', 'Charging Rate (kW)', 'Distance Driven (since last charge) (km)']].median())\n",
    "# df.isnull().sum()"
   ]
  },
  {
   "cell_type": "code",
   "execution_count": 5,
   "metadata": {},
   "outputs": [
    {
     "name": "stdout",
     "output_type": "stream",
     "text": [
      "Remaining rows after removing inconsistencies:  1052\n"
     ]
    }
   ],
   "source": [
    "inconsistent_charge = df[df['State of Charge (Start %)'] > df['State of Charge (End %)']]\n",
    "df = df.drop(inconsistent_charge.index)\n",
    "print(\"Remaining rows after removing inconsistencies: \", len(df))"
   ]
  },
  {
   "cell_type": "code",
   "execution_count": 6,
   "metadata": {},
   "outputs": [
    {
     "data": {
      "text/plain": [
       "Index(['User ID', 'Vehicle Model', 'Battery Capacity (kWh)',\n",
       "       'Charging Station ID', 'Charging Station Location',\n",
       "       'Charging Start Time', 'Charging End Time', 'Energy Consumed (kWh)',\n",
       "       'Charging Duration (hours)', 'Charging Rate (kW)',\n",
       "       'Charging Cost (USD)', 'Time of Day', 'Day of Week',\n",
       "       'State of Charge (Start %)', 'State of Charge (End %)',\n",
       "       'Distance Driven (since last charge) (km)', 'Temperature (°C)',\n",
       "       'Vehicle Age (years)', 'Charger Type', 'User Type'],\n",
       "      dtype='object')"
      ]
     },
     "execution_count": 6,
     "metadata": {},
     "output_type": "execute_result"
    }
   ],
   "source": [
    "df.columns"
   ]
  },
  {
   "cell_type": "code",
   "execution_count": 7,
   "metadata": {},
   "outputs": [
    {
     "name": "stdout",
     "output_type": "stream",
     "text": [
      "Number of mismatched rows: 1052\n",
      "     Charging Start Time   Charging End Time  Charging Duration (hours)\n",
      "0    2024-01-01 00:00:00 2024-01-01 00:39:00                   0.591363\n",
      "1    2024-01-01 01:00:00 2024-01-01 03:01:00                   3.133652\n",
      "2    2024-01-01 02:00:00 2024-01-01 04:48:00                   2.452653\n",
      "3    2024-01-01 03:00:00 2024-01-01 06:42:00                   1.266431\n",
      "4    2024-01-01 04:00:00 2024-01-01 05:46:00                   2.019765\n",
      "...                  ...                 ...                        ...\n",
      "1313 2024-02-24 17:00:00 2024-02-24 19:35:00                   2.365991\n",
      "1314 2024-02-24 18:00:00 2024-02-24 19:58:00                   2.501809\n",
      "1315 2024-02-24 19:00:00 2024-02-24 20:30:00                   1.426444\n",
      "1316 2024-02-24 20:00:00 2024-02-24 20:44:00                   3.238212\n",
      "1317 2024-02-24 21:00:00 2024-02-24 23:03:00                   3.267122\n",
      "\n",
      "[1052 rows x 3 columns]\n"
     ]
    }
   ],
   "source": [
    "mismatched_durations = df[\n",
    "    (df['Charging End Time'] - df['Charging Start Time']).dt.total_seconds() / 3600 != df['Charging Duration (hours)']\n",
    "]\n",
    "\n",
    "# Display the number of mismatched rows and their details\n",
    "print(f\"Number of mismatched rows: {len(mismatched_durations)}\")\n",
    "print(mismatched_durations[['Charging Start Time', 'Charging End Time', 'Charging Duration (hours)']])"
   ]
  },
  {
   "cell_type": "code",
   "execution_count": null,
   "metadata": {},
   "outputs": [],
   "source": []
  }
 ],
 "metadata": {
  "kernelspec": {
   "display_name": ".venv",
   "language": "python",
   "name": "python3"
  },
  "language_info": {
   "codemirror_mode": {
    "name": "ipython",
    "version": 3
   },
   "file_extension": ".py",
   "mimetype": "text/x-python",
   "name": "python",
   "nbconvert_exporter": "python",
   "pygments_lexer": "ipython3",
   "version": "3.12.5"
  }
 },
 "nbformat": 4,
 "nbformat_minor": 2
}
